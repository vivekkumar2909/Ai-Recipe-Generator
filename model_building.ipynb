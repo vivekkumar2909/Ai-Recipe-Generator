{
 "cells": [
  {
   "cell_type": "code",
   "execution_count": 1,
   "metadata": {
    "execution": {
     "iopub.execute_input": "2024-01-18T09:05:45.968629Z",
     "iopub.status.busy": "2024-01-18T09:05:45.967965Z",
     "iopub.status.idle": "2024-01-18T09:05:46.960077Z",
     "shell.execute_reply": "2024-01-18T09:05:46.959105Z",
     "shell.execute_reply.started": "2024-01-18T09:05:45.968582Z"
    },
    "trusted": true
   },
   "outputs": [
    {
     "ename": "ModuleNotFoundError",
     "evalue": "No module named 'pandas'",
     "output_type": "error",
     "traceback": [
      "\u001b[31m---------------------------------------------------------------------------\u001b[39m",
      "\u001b[31mModuleNotFoundError\u001b[39m                       Traceback (most recent call last)",
      "\u001b[36mCell\u001b[39m\u001b[36m \u001b[39m\u001b[32mIn[1]\u001b[39m\u001b[32m, line 1\u001b[39m\n\u001b[32m----> \u001b[39m\u001b[32m1\u001b[39m \u001b[38;5;28;01mimport\u001b[39;00m\u001b[38;5;250m \u001b[39m\u001b[34;01mpandas\u001b[39;00m\u001b[38;5;250m \u001b[39m\u001b[38;5;28;01mas\u001b[39;00m\u001b[38;5;250m \u001b[39m\u001b[34;01mpd\u001b[39;00m\n\u001b[32m      3\u001b[39m data = pd.read_csv(\u001b[33m'\u001b[39m\u001b[33m/kaggle/input/6000-indian-food-recipes-dataset/IndianFoodDatasetCSV.csv\u001b[39m\u001b[33m'\u001b[39m)\n\u001b[32m      5\u001b[39m data.head()\n",
      "\u001b[31mModuleNotFoundError\u001b[39m: No module named 'pandas'"
     ]
    }
   ],
   "source": [
    "import pandas as pd\n",
    "\n",
    "data = pd.read_csv('/kaggle/input/6000-indian-food-recipes-dataset/IndianFoodDatasetCSV.csv')\n",
    "\n",
    "data.head()"
   ]
  },
  {
   "cell_type": "markdown",
   "metadata": {},
   "source": [
    "<h3 style=\"color:violet\">Data Exploration</h1>"
   ]
  },
  {
   "cell_type": "code",
   "execution_count": 2,
   "metadata": {
    "execution": {
     "iopub.execute_input": "2024-01-18T09:05:46.962036Z",
     "iopub.status.busy": "2024-01-18T09:05:46.961750Z",
     "iopub.status.idle": "2024-01-18T09:05:46.992024Z",
     "shell.execute_reply": "2024-01-18T09:05:46.991200Z",
     "shell.execute_reply.started": "2024-01-18T09:05:46.962011Z"
    },
    "trusted": true
   },
   "outputs": [
    {
     "name": "stdout",
     "output_type": "stream",
     "text": [
      "<class 'pandas.core.frame.DataFrame'>\n",
      "RangeIndex: 6871 entries, 0 to 6870\n",
      "Data columns (total 15 columns):\n",
      " #   Column                  Non-Null Count  Dtype \n",
      "---  ------                  --------------  ----- \n",
      " 0   Srno                    6871 non-null   int64 \n",
      " 1   RecipeName              6871 non-null   object\n",
      " 2   TranslatedRecipeName    6871 non-null   object\n",
      " 3   Ingredients             6865 non-null   object\n",
      " 4   TranslatedIngredients   6865 non-null   object\n",
      " 5   PrepTimeInMins          6871 non-null   int64 \n",
      " 6   CookTimeInMins          6871 non-null   int64 \n",
      " 7   TotalTimeInMins         6871 non-null   int64 \n",
      " 8   Servings                6871 non-null   int64 \n",
      " 9   Cuisine                 6871 non-null   object\n",
      " 10  Course                  6871 non-null   object\n",
      " 11  Diet                    6871 non-null   object\n",
      " 12  Instructions            6871 non-null   object\n",
      " 13  TranslatedInstructions  6871 non-null   object\n",
      " 14  URL                     6871 non-null   object\n",
      "dtypes: int64(5), object(10)\n",
      "memory usage: 805.3+ KB\n"
     ]
    }
   ],
   "source": [
    "data.info()"
   ]
  },
  {
   "cell_type": "code",
   "execution_count": 3,
   "metadata": {
    "execution": {
     "iopub.execute_input": "2024-01-18T09:05:46.993338Z",
     "iopub.status.busy": "2024-01-18T09:05:46.993057Z",
     "iopub.status.idle": "2024-01-18T09:05:47.007023Z",
     "shell.execute_reply": "2024-01-18T09:05:47.006195Z",
     "shell.execute_reply.started": "2024-01-18T09:05:46.993316Z"
    },
    "trusted": true
   },
   "outputs": [
    {
     "data": {
      "text/plain": [
       "Srno                      0\n",
       "RecipeName                0\n",
       "TranslatedRecipeName      0\n",
       "Ingredients               6\n",
       "TranslatedIngredients     6\n",
       "PrepTimeInMins            0\n",
       "CookTimeInMins            0\n",
       "TotalTimeInMins           0\n",
       "Servings                  0\n",
       "Cuisine                   0\n",
       "Course                    0\n",
       "Diet                      0\n",
       "Instructions              0\n",
       "TranslatedInstructions    0\n",
       "URL                       0\n",
       "dtype: int64"
      ]
     },
     "execution_count": 3,
     "metadata": {},
     "output_type": "execute_result"
    }
   ],
   "source": [
    "data.isnull().sum()"
   ]
  },
  {
   "cell_type": "code",
   "execution_count": 4,
   "metadata": {
    "execution": {
     "iopub.execute_input": "2024-01-18T09:05:47.008539Z",
     "iopub.status.busy": "2024-01-18T09:05:47.008220Z",
     "iopub.status.idle": "2024-01-18T09:05:47.031568Z",
     "shell.execute_reply": "2024-01-18T09:05:47.030738Z",
     "shell.execute_reply.started": "2024-01-18T09:05:47.008510Z"
    },
    "trusted": true
   },
   "outputs": [
    {
     "data": {
      "text/html": [
       "<div>\n",
       "<style scoped>\n",
       "    .dataframe tbody tr th:only-of-type {\n",
       "        vertical-align: middle;\n",
       "    }\n",
       "\n",
       "    .dataframe tbody tr th {\n",
       "        vertical-align: top;\n",
       "    }\n",
       "\n",
       "    .dataframe thead th {\n",
       "        text-align: right;\n",
       "    }\n",
       "</style>\n",
       "<table border=\"1\" class=\"dataframe\">\n",
       "  <thead>\n",
       "    <tr style=\"text-align: right;\">\n",
       "      <th></th>\n",
       "      <th>Srno</th>\n",
       "      <th>RecipeName</th>\n",
       "      <th>TranslatedRecipeName</th>\n",
       "      <th>Ingredients</th>\n",
       "      <th>TranslatedIngredients</th>\n",
       "      <th>PrepTimeInMins</th>\n",
       "      <th>CookTimeInMins</th>\n",
       "      <th>TotalTimeInMins</th>\n",
       "      <th>Servings</th>\n",
       "      <th>Cuisine</th>\n",
       "      <th>Course</th>\n",
       "      <th>Diet</th>\n",
       "      <th>Instructions</th>\n",
       "      <th>TranslatedInstructions</th>\n",
       "      <th>URL</th>\n",
       "    </tr>\n",
       "  </thead>\n",
       "  <tbody>\n",
       "    <tr>\n",
       "      <th>309</th>\n",
       "      <td>328</td>\n",
       "      <td>Four Cheese and Spinach Stuffed Mushrooms Recipe</td>\n",
       "      <td>Four Cheese and Spinach Stuffed Mushrooms Recipe</td>\n",
       "      <td>12 Button mushrooms - (button or crimini varie...</td>\n",
       "      <td>12 Button mushrooms - (button or crimini varie...</td>\n",
       "      <td>10</td>\n",
       "      <td>50</td>\n",
       "      <td>60</td>\n",
       "      <td>4</td>\n",
       "      <td>Continental</td>\n",
       "      <td>Appetizer</td>\n",
       "      <td>Vegetarian</td>\n",
       "      <td>To prepare Four Cheese and Spinach Stuffed Mus...</td>\n",
       "      <td>To prepare Four Cheese and Spinach Stuffed Mus...</td>\n",
       "      <td>https://www.archanaskitchen.com/four-cheese-an...</td>\n",
       "    </tr>\n",
       "    <tr>\n",
       "      <th>310</th>\n",
       "      <td>329</td>\n",
       "      <td>Roasted Vegetable Pasta Primavera Recipe</td>\n",
       "      <td>Roasted Vegetable Pasta Primavera Recipe</td>\n",
       "      <td>12 Button mushrooms - (button or crimini varie...</td>\n",
       "      <td>12 Button mushrooms - (button or crimini varie...</td>\n",
       "      <td>10</td>\n",
       "      <td>50</td>\n",
       "      <td>60</td>\n",
       "      <td>4</td>\n",
       "      <td>Continental</td>\n",
       "      <td>Appetizer</td>\n",
       "      <td>Vegetarian</td>\n",
       "      <td>To prepare Four Cheese and Spinach Stuffed Mus...</td>\n",
       "      <td>To prepare Four Cheese and Spinach Stuffed Mus...</td>\n",
       "      <td>https://www.archanaskitchen.com/weekly-lunch-b...</td>\n",
       "    </tr>\n",
       "  </tbody>\n",
       "</table>\n",
       "</div>"
      ],
      "text/plain": [
       "     Srno                                        RecipeName  \\\n",
       "309   328  Four Cheese and Spinach Stuffed Mushrooms Recipe   \n",
       "310   329          Roasted Vegetable Pasta Primavera Recipe   \n",
       "\n",
       "                                 TranslatedRecipeName  \\\n",
       "309  Four Cheese and Spinach Stuffed Mushrooms Recipe   \n",
       "310          Roasted Vegetable Pasta Primavera Recipe   \n",
       "\n",
       "                                           Ingredients  \\\n",
       "309  12 Button mushrooms - (button or crimini varie...   \n",
       "310  12 Button mushrooms - (button or crimini varie...   \n",
       "\n",
       "                                 TranslatedIngredients  PrepTimeInMins  \\\n",
       "309  12 Button mushrooms - (button or crimini varie...              10   \n",
       "310  12 Button mushrooms - (button or crimini varie...              10   \n",
       "\n",
       "     CookTimeInMins  TotalTimeInMins  Servings      Cuisine     Course  \\\n",
       "309              50               60         4  Continental  Appetizer   \n",
       "310              50               60         4  Continental  Appetizer   \n",
       "\n",
       "           Diet                                       Instructions  \\\n",
       "309  Vegetarian  To prepare Four Cheese and Spinach Stuffed Mus...   \n",
       "310  Vegetarian  To prepare Four Cheese and Spinach Stuffed Mus...   \n",
       "\n",
       "                                TranslatedInstructions  \\\n",
       "309  To prepare Four Cheese and Spinach Stuffed Mus...   \n",
       "310  To prepare Four Cheese and Spinach Stuffed Mus...   \n",
       "\n",
       "                                                   URL  \n",
       "309  https://www.archanaskitchen.com/four-cheese-an...  \n",
       "310  https://www.archanaskitchen.com/weekly-lunch-b...  "
      ]
     },
     "execution_count": 4,
     "metadata": {},
     "output_type": "execute_result"
    }
   ],
   "source": [
    "data[data.duplicated(['TranslatedInstructions'], keep=False)]"
   ]
  },
  {
   "cell_type": "markdown",
   "metadata": {},
   "source": [
    "As we can see <b>Translatedinstructions</b> has same recipe for 2 datapoints. By manually looking into the recipe and the <b>RecipeName</b> the datapoint with <b>Srno 329</b> is the repeated and should be dropped."
   ]
  },
  {
   "cell_type": "code",
   "execution_count": 5,
   "metadata": {
    "execution": {
     "iopub.execute_input": "2024-01-18T09:05:47.033789Z",
     "iopub.status.busy": "2024-01-18T09:05:47.033480Z",
     "iopub.status.idle": "2024-01-18T09:05:47.042175Z",
     "shell.execute_reply": "2024-01-18T09:05:47.041450Z",
     "shell.execute_reply.started": "2024-01-18T09:05:47.033754Z"
    },
    "trusted": true
   },
   "outputs": [],
   "source": [
    "data.drop_duplicates(subset=['TranslatedInstructions'], inplace=True)"
   ]
  },
  {
   "cell_type": "code",
   "execution_count": 7,
   "metadata": {
    "execution": {
     "iopub.execute_input": "2024-01-18T09:23:26.390469Z",
     "iopub.status.busy": "2024-01-18T09:23:26.389745Z",
     "iopub.status.idle": "2024-01-18T16:05:08.039843Z",
     "shell.execute_reply": "2024-01-18T16:05:08.038974Z",
     "shell.execute_reply.started": "2024-01-18T09:23:26.390438Z"
    },
    "trusted": true
   },
   "outputs": [
    {
     "name": "stdout",
     "output_type": "stream",
     "text": [
      "Epoch 1/50\n"
     ]
    },
    {
     "name": "stderr",
     "output_type": "stream",
     "text": [
      "/tmp/ipykernel_26/1078034460.py:63: UserWarning: `Model.fit_generator` is deprecated and will be removed in a future version. Please use `Model.fit`, which supports generators.\n",
      "  model.fit_generator(\n"
     ]
    },
    {
     "name": "stdout",
     "output_type": "stream",
     "text": [
      "6330/6330 [==============================] - 527s 82ms/step - loss: 5.6468 - accuracy: 0.1266\n",
      "Epoch 2/50\n",
      "6330/6330 [==============================] - 482s 76ms/step - loss: 4.6133 - accuracy: 0.2128\n",
      "Epoch 3/50\n",
      "6330/6330 [==============================] - 482s 76ms/step - loss: 4.0547 - accuracy: 0.2608\n",
      "Epoch 4/50\n",
      "6330/6330 [==============================] - 479s 76ms/step - loss: 3.6871 - accuracy: 0.2899\n",
      "Epoch 5/50\n",
      "6330/6330 [==============================] - 479s 76ms/step - loss: 3.3987 - accuracy: 0.3109\n",
      "Epoch 6/50\n",
      "6330/6330 [==============================] - 482s 76ms/step - loss: 3.1655 - accuracy: 0.3291\n",
      "Epoch 7/50\n",
      "6330/6330 [==============================] - 482s 76ms/step - loss: 2.9675 - accuracy: 0.3473\n",
      "Epoch 8/50\n",
      "1070/6330 [====>.........................] - ETA: 6:39 - loss: 2.8180 - accuracy: 0.3640"
     ]
    },
    {
     "name": "stderr",
     "output_type": "stream",
     "text": [
      "IOPub message rate exceeded.\n",
      "The notebook server will temporarily stop sending output\n",
      "to the client in order to avoid crashing it.\n",
      "To change this limit, set the config variable\n",
      "`--NotebookApp.iopub_msg_rate_limit`.\n",
      "\n",
      "Current values:\n",
      "NotebookApp.iopub_msg_rate_limit=1000.0 (msgs/sec)\n",
      "NotebookApp.rate_limit_window=3.0 (secs)\n",
      "\n"
     ]
    },
    {
     "name": "stdout",
     "output_type": "stream",
     "text": [
      "6330/6330 [==============================] - 481s 76ms/step - loss: 2.8070 - accuracy: 0.3638\n",
      "Epoch 9/50\n",
      "6330/6330 [==============================] - 482s 76ms/step - loss: 2.6606 - accuracy: 0.3820\n",
      "Epoch 10/50\n",
      "6330/6330 [==============================] - 482s 76ms/step - loss: 2.5392 - accuracy: 0.3981\n",
      "Epoch 11/50\n",
      "6330/6330 [==============================] - 482s 76ms/step - loss: 2.4317 - accuracy: 0.4127\n",
      "Epoch 12/50\n",
      "6330/6330 [==============================] - 479s 76ms/step - loss: 2.3374 - accuracy: 0.4275\n",
      "Epoch 13/50\n",
      "6330/6330 [==============================] - 481s 76ms/step - loss: 2.2553 - accuracy: 0.4404\n",
      "Epoch 14/50\n",
      "6330/6330 [==============================] - 482s 76ms/step - loss: 2.1739 - accuracy: 0.4547\n",
      "Epoch 15/50\n",
      "6330/6330 [==============================] - 482s 76ms/step - loss: 2.0989 - accuracy: 0.4672\n",
      "Epoch 16/50\n",
      "6330/6330 [==============================] - 481s 76ms/step - loss: 2.0303 - accuracy: 0.4779\n",
      "Epoch 17/50\n",
      "6330/6330 [==============================] - 482s 76ms/step - loss: 1.9651 - accuracy: 0.4910\n",
      "Epoch 18/50\n",
      "6330/6330 [==============================] - 481s 76ms/step - loss: 1.9155 - accuracy: 0.5005\n",
      "Epoch 19/50\n",
      "6330/6330 [==============================] - 479s 76ms/step - loss: 1.8598 - accuracy: 0.5122\n",
      "Epoch 20/50\n",
      "6330/6330 [==============================] - 479s 76ms/step - loss: 1.8075 - accuracy: 0.5205\n",
      "Epoch 21/50\n",
      "6330/6330 [==============================] - 481s 76ms/step - loss: 1.7557 - accuracy: 0.5301\n",
      "Epoch 22/50\n",
      "6330/6330 [==============================] - 481s 76ms/step - loss: 1.7147 - accuracy: 0.5390\n",
      "Epoch 23/50\n",
      "6330/6330 [==============================] - 481s 76ms/step - loss: 1.6711 - accuracy: 0.5489\n",
      "Epoch 24/50\n",
      "6330/6330 [==============================] - 482s 76ms/step - loss: 1.6329 - accuracy: 0.5565\n",
      "Epoch 25/50\n",
      "6330/6330 [==============================] - 482s 76ms/step - loss: 1.5906 - accuracy: 0.5652\n",
      "Epoch 26/50\n",
      "6330/6330 [==============================] - 481s 76ms/step - loss: 1.5572 - accuracy: 0.5718\n",
      "Epoch 27/50\n",
      "6330/6330 [==============================] - 479s 76ms/step - loss: 1.5263 - accuracy: 0.5775\n",
      "Epoch 28/50\n",
      "6330/6330 [==============================] - 481s 76ms/step - loss: 1.4933 - accuracy: 0.5847\n",
      "Epoch 29/50\n",
      "6330/6330 [==============================] - 482s 76ms/step - loss: 1.4648 - accuracy: 0.5916\n",
      "Epoch 30/50\n",
      "6330/6330 [==============================] - 482s 76ms/step - loss: 1.4380 - accuracy: 0.5979\n",
      "Epoch 31/50\n",
      "6330/6330 [==============================] - 482s 76ms/step - loss: 1.4125 - accuracy: 0.6027\n",
      "Epoch 32/50\n",
      "6330/6330 [==============================] - 482s 76ms/step - loss: 1.3874 - accuracy: 0.6077\n",
      "Epoch 33/50\n",
      "6330/6330 [==============================] - 482s 76ms/step - loss: 1.3644 - accuracy: 0.6137\n",
      "Epoch 34/50\n",
      "6330/6330 [==============================] - 479s 76ms/step - loss: 1.3387 - accuracy: 0.6194\n",
      "Epoch 35/50\n",
      "6330/6330 [==============================] - 479s 76ms/step - loss: 1.3146 - accuracy: 0.6250\n",
      "Epoch 36/50\n",
      "6330/6330 [==============================] - 481s 76ms/step - loss: 1.2992 - accuracy: 0.6287\n",
      "Epoch 37/50\n",
      "6330/6330 [==============================] - 482s 76ms/step - loss: 1.2804 - accuracy: 0.6335\n",
      "Epoch 38/50\n",
      "6330/6330 [==============================] - 482s 76ms/step - loss: 1.2570 - accuracy: 0.6384\n",
      "Epoch 39/50\n",
      "6330/6330 [==============================] - 482s 76ms/step - loss: 1.2420 - accuracy: 0.6413\n",
      "Epoch 40/50\n",
      "6330/6330 [==============================] - 481s 76ms/step - loss: 1.2237 - accuracy: 0.6453\n",
      "Epoch 41/50\n",
      "6330/6330 [==============================] - 480s 76ms/step - loss: 1.2099 - accuracy: 0.6491\n",
      "Epoch 42/50\n",
      "6330/6330 [==============================] - 479s 76ms/step - loss: 1.1954 - accuracy: 0.6524\n",
      "Epoch 43/50\n",
      "6330/6330 [==============================] - 481s 76ms/step - loss: 1.1744 - accuracy: 0.6578\n",
      "Epoch 44/50\n",
      "6330/6330 [==============================] - 482s 76ms/step - loss: 1.1589 - accuracy: 0.6604\n",
      "Epoch 45/50\n",
      "6330/6330 [==============================] - 481s 76ms/step - loss: 1.1465 - accuracy: 0.6643\n",
      "Epoch 46/50\n",
      "6330/6330 [==============================] - 481s 76ms/step - loss: 1.1366 - accuracy: 0.6660\n",
      "Epoch 47/50\n",
      "6330/6330 [==============================] - 481s 76ms/step - loss: 1.1222 - accuracy: 0.6696\n",
      "Epoch 48/50\n",
      "6330/6330 [==============================] - 481s 76ms/step - loss: 1.1069 - accuracy: 0.6738\n",
      "Epoch 49/50\n",
      "6330/6330 [==============================] - 479s 76ms/step - loss: 1.0979 - accuracy: 0.6755\n",
      "Epoch 50/50\n",
      "6330/6330 [==============================] - 479s 76ms/step - loss: 1.0875 - accuracy: 0.6790\n",
      "Blend onions ginger garlic toor dal coriander seeds and dry roast them\n"
     ]
    }
   ],
   "source": [
    "import os\n",
    "import pandas as pd\n",
    "import numpy as np\n",
    "import tensorflow as tf\n",
    "from tensorflow.keras.models import Sequential\n",
    "from tensorflow.keras.layers import Embedding, LSTM, Dense, Dropout, Bidirectional\n",
    "from tensorflow.keras.preprocessing.text import Tokenizer\n",
    "from tensorflow.keras.preprocessing.sequence import pad_sequences\n",
    "\n",
    "# Tokenization: Converting words into integers\n",
    "tokenizer = Tokenizer()\n",
    "tokenizer.fit_on_texts(data['TranslatedInstructions'])\n",
    "\n",
    "total_words = len(tokenizer.word_index) + 1\n",
    "\n",
    "# Creating input sequences\n",
    "input_sequences = []\n",
    "for line in data['TranslatedInstructions']:\n",
    "    token_list = tokenizer.texts_to_sequences([line])[0]\n",
    "    for i in range(1, len(token_list)):\n",
    "        n_gram_sequence = token_list[:i+1]\n",
    "        input_sequences.append(n_gram_sequence)\n",
    "\n",
    "# Padding sequences and creating predictors and label\n",
    "max_sequence_length = max([len(seq) for seq in input_sequences])\n",
    "input_sequences = pad_sequences(input_sequences, maxlen=max_sequence_length, padding='pre')\n",
    "X, y = input_sequences[:, :-1], input_sequences[:, -1]\n",
    "y = tf.keras.utils.to_categorical(y, num_classes=total_words)\n",
    "\n",
    "# Defining a generator function for batch processing\n",
    "def sequence_generator(input_sequences, labels, batch_size):\n",
    "    num_batches = len(input_sequences) // batch_size\n",
    "    while True:\n",
    "        for batch in range(num_batches):\n",
    "            start = batch * batch_size\n",
    "            end = (batch + 1) * batch_size\n",
    "            yield X[start:end, :], y[start:end, :]\n",
    "\n",
    "# Model definition\n",
    "model = Sequential()\n",
    "model.add(Embedding(total_words, 100))\n",
    "model.add(Bidirectional(LSTM(150, return_sequences=True)))\n",
    "model.add(Dropout(0.2))\n",
    "model.add(LSTM(100))\n",
    "model.add(Dense(total_words/2, activation='relu'))\n",
    "model.add(Dense(total_words, activation='softmax'))\n",
    "model.compile(optimizer='adam', loss='categorical_crossentropy', metrics=['accuracy'])\n",
    "\n",
    "# Training the model using fit_generator\n",
    "batch_size = 32\n",
    "num_epochs = 50  \n",
    "steps_per_epoch = len(input_sequences) // (batch_size)\n",
    "\n",
    "model.fit_generator(\n",
    "    sequence_generator(X, y, batch_size),\n",
    "    epochs=num_epochs,\n",
    "    steps_per_epoch=steps_per_epoch,\n",
    "    verbose=1\n",
    ")\n",
    "\n",
    "# Generating a recipe\n",
    "def generate_recipe(seed_text, next_words=10):\n",
    "    for _ in range(next_words):\n",
    "        token_list = tokenizer.texts_to_sequences([seed_text])[0]\n",
    "        token_list = pad_sequences([token_list], maxlen=max_sequence_length-1, padding='pre')\n",
    "        predicted = np.argmax(model.predict(token_list, verbose=0), axis=-1)\n",
    "        output_word = \"\"\n",
    "        for word, index in tokenizer.word_index.items():\n",
    "            if index == predicted:\n",
    "                output_word = word\n",
    "                break\n",
    "        seed_text += \" \" + output_word\n",
    "    return seed_text\n",
    "\n",
    "# Example usage\n",
    "generated_recipe = generate_recipe(\"Blend onions\")\n",
    "print(generated_recipe)\n"
   ]
  },
  {
   "cell_type": "code",
   "execution_count": 8,
   "metadata": {
    "execution": {
     "iopub.execute_input": "2024-01-18T16:32:56.054730Z",
     "iopub.status.busy": "2024-01-18T16:32:56.054282Z",
     "iopub.status.idle": "2024-01-18T16:32:56.863052Z",
     "shell.execute_reply": "2024-01-18T16:32:56.861975Z",
     "shell.execute_reply.started": "2024-01-18T16:32:56.054668Z"
    },
    "trusted": true
   },
   "outputs": [
    {
     "name": "stdout",
     "output_type": "stream",
     "text": [
      "Blend tomatoes ginger garlic toor dal coriander paste and dry roast it\n"
     ]
    }
   ],
   "source": [
    "generated_recipe = generate_recipe(\"Blend tomatoes\")\n",
    "print(generated_recipe)"
   ]
  },
  {
   "cell_type": "code",
   "execution_count": 9,
   "metadata": {
    "execution": {
     "iopub.execute_input": "2024-01-18T16:33:01.157963Z",
     "iopub.status.busy": "2024-01-18T16:33:01.157564Z",
     "iopub.status.idle": "2024-01-18T16:33:01.691526Z",
     "shell.execute_reply": "2024-01-18T16:33:01.690695Z",
     "shell.execute_reply.started": "2024-01-18T16:33:01.157932Z"
    },
    "trusted": true
   },
   "outputs": [
    {
     "name": "stderr",
     "output_type": "stream",
     "text": [
      "/opt/conda/lib/python3.10/site-packages/keras/src/engine/training.py:3000: UserWarning: You are saving your model as an HDF5 file via `model.save()`. This file format is considered legacy. We recommend using instead the native Keras format, e.g. `model.save('my_model.keras')`.\n",
      "  saving_api.save_model(\n"
     ]
    }
   ],
   "source": [
    "model.save('/kaggle/working/recipe_generation_model.h5')"
   ]
  }
 ],
 "metadata": {
  "kaggle": {
   "accelerator": "tpu1vmV38",
   "dataSources": [
    {
     "datasetId": 934844,
     "sourceId": 1584379,
     "sourceType": "datasetVersion"
    }
   ],
   "dockerImageVersionId": 30637,
   "isGpuEnabled": false,
   "isInternetEnabled": true,
   "language": "python",
   "sourceType": "notebook"
  },
  "kernelspec": {
   "display_name": "Python 3",
   "language": "python",
   "name": "python3"
  },
  "language_info": {
   "codemirror_mode": {
    "name": "ipython",
    "version": 3
   },
   "file_extension": ".py",
   "mimetype": "text/x-python",
   "name": "python",
   "nbconvert_exporter": "python",
   "pygments_lexer": "ipython3",
   "version": "3.13.3"
  }
 },
 "nbformat": 4,
 "nbformat_minor": 4
}
